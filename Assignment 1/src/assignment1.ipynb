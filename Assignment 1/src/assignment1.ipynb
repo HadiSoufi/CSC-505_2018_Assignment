{
 "cells": [
  {
   "cell_type": "code",
   "execution_count": 23,
   "metadata": {},
   "outputs": [
    {
     "name": "stdout",
     "output_type": "stream",
     "text": [
      "[array(['Mouna', 'Hadi', 'Matthew', 'Kevin', 'Rohit'], dtype='<U8'), array(['Shiyang', 'Bhavana', 'Saed', 'Daniel'], dtype='<U8'), array(['Cody', 'Hao', 'Jonathan', 'Blair'], dtype='<U8'), array(['Evan', 'Gregory', 'Eury', 'Spencer'], dtype='<U8'), array(['Syed', 'Logan', 'Garrett', 'Richard'], dtype='<U8'), array(['Phillip', 'Bety', 'Linh', 'Thien'], dtype='<U8'), array(['Maclean', 'Justin', 'Yang', 'Charles'], dtype='<U8'), array(['Evan', 'Luke', 'darpan', 'Oana'], dtype='<U8')]\n"
     ]
    }
   ],
   "source": [
    "import numpy, random; print(numpy.array_split(random.sample(list(numpy.loadtxt('student_list.csv', dtype = str, skiprows = 1, usecols = (0))), 33) , 8))\n"
   ]
  },
  {
   "cell_type": "code",
   "execution_count": null,
   "metadata": {},
   "outputs": [],
   "source": []
  }
 ],
 "metadata": {
  "kernelspec": {
   "display_name": "Python 3",
   "language": "python",
   "name": "python3"
  },
  "language_info": {
   "codemirror_mode": {
    "name": "ipython",
    "version": 3
   },
   "file_extension": ".py",
   "mimetype": "text/x-python",
   "name": "python",
   "nbconvert_exporter": "python",
   "pygments_lexer": "ipython3",
   "version": "3.6.5"
  }
 },
 "nbformat": 4,
 "nbformat_minor": 2
}
