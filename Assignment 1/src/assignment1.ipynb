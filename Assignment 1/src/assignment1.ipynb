{
 "cells": [
  {
   "cell_type": "code",
   "execution_count": 26,
   "metadata": {},
   "outputs": [
    {
     "name": "stdout",
     "output_type": "stream",
     "text": [
      "[array(['Eury', 'Linh', 'Maclean', 'Gregory', 'Jonathan'], dtype='<U8'), array(['Daniel', 'Luke', 'Rohit', 'Kevin'], dtype='<U8'), array(['Mouna', 'Garrett', 'Matthew', 'Charles'], dtype='<U8'), array(['Spencer', 'Shiyang', 'Hadi', 'Thien'], dtype='<U8'), array(['Logan', 'Hao', 'Evan', 'Bety'], dtype='<U8'), array(['Richard', 'Syed', 'Saed', 'Evan'], dtype='<U8'), array(['Justin', 'Yang', 'Phillip', 'darpan'], dtype='<U8'), array(['Blair', 'Bhavana', 'Cody', 'Oana'], dtype='<U8')]\n"
     ]
    }
   ],
   "source": [
    "import numpy, random; print(numpy.array_split(random.sample(list(numpy.loadtxt('../data/student_list.csv', dtype = str, skiprows = 1, usecols = (0))), 33) , 8))\n"
   ]
  },
  {
   "cell_type": "code",
   "execution_count": null,
   "metadata": {},
   "outputs": [],
   "source": []
  }
 ],
 "metadata": {
  "kernelspec": {
   "display_name": "Python 3",
   "language": "python",
   "name": "python3"
  },
  "language_info": {
   "codemirror_mode": {
    "name": "ipython",
    "version": 3
   },
   "file_extension": ".py",
   "mimetype": "text/x-python",
   "name": "python",
   "nbconvert_exporter": "python",
   "pygments_lexer": "ipython3",
   "version": "3.6.5"
  }
 },
 "nbformat": 4,
 "nbformat_minor": 2
}
